{
 "cells": [
  {
   "cell_type": "markdown",
   "metadata": {},
   "source": [
    "# MSD ASSIGNMENT - II\n",
    "## N NIKHIL KUMAR - 18BEC031(ECE)"
   ]
  },
  {
   "cell_type": "markdown",
   "metadata": {},
   "source": [
    "### ADC - DAC"
   ]
  },
  {
   "cell_type": "code",
   "execution_count": 6,
   "metadata": {},
   "outputs": [
    {
     "name": "stdout",
     "output_type": "stream",
     "text": [
      "Enter the number of bits: 3\n",
      "Enter Vin value: 10\n",
      "\n",
      "Control logic after iteration  1 :  [1, 0, 0]\n",
      "New Vdac:  0.5\n",
      "\n",
      "Control logic after iteration  2 :  [1, 1, 0]\n",
      "New Vdac:  1.5\n",
      "\n",
      "Control logic after iteration  3 :  [1, 1, 1]\n",
      "New Vdac:  3.0\n"
     ]
    }
   ],
   "source": [
    "N = int(input(\"Enter the number of bits: \"))\n",
    "Vin = float(input(\"Enter Vin value: \"))\n",
    "arr = [0]*N\n",
    "\n",
    "for i in range (N):\n",
    "  Vdac = 0\n",
    "  arr[i] = 1\n",
    "  for j in range(N):\n",
    "    Vdac = Vdac + arr[j]*(1/2*(j+1))\n",
    "  if Vin<Vdac:\n",
    "    arr[i] = 0\n",
    "\n",
    "  print(\"\\nControl logic after iteration \",i+1,\": \",arr)\n",
    "  print(\"New Vdac: \",Vdac)"
   ]
  },
  {
   "cell_type": "code",
   "execution_count": 3,
   "metadata": {},
   "outputs": [
    {
     "name": "stdout",
     "output_type": "stream",
     "text": [
      "0 0.8 1\n",
      "0.5 0.8 11\n",
      "0.75 0.8 111\n",
      "0.875 0.8 1101\n",
      "0.8125 0.8 11001\n",
      "0.78125 0.8 110011\n",
      "0.796875 0.8 1100111\n",
      "0.8046875 0.8 11001101\n",
      "Vin= 0.8 1 DAC value= 11001100\n"
     ]
    }
   ],
   "source": [
    "def vv(s,vr):\n",
    "    sum=0\n",
    "    n=1\n",
    "    for i in s:\n",
    "        sum=sum+(int(i))*(1/2**n)*vr\n",
    "        n=n+1\n",
    "    return sum\n",
    "\n",
    "Vin=0.8\n",
    "Vref=1\n",
    "op = ''\n",
    "n=8\n",
    "while n>0:\n",
    "    print( vv(op,Vref), end=\" \")\n",
    "    if(Vin>vv(op,Vref)):\n",
    "        op=op+'1'\n",
    "    else:\n",
    "        op=op[0:-1]+'01'\n",
    "    print(Vin,op)\n",
    "    n=n-1\n",
    "if(Vin<vv(op,Vref)):\n",
    "    op=op[0:-1]+'0'\n",
    "    \n",
    "print('Vin=', Vin, Vref, \"DAC value=\", op)\n",
    "    "
   ]
  },
  {
   "cell_type": "code",
   "execution_count": null,
   "metadata": {},
   "outputs": [],
   "source": []
  }
 ],
 "metadata": {
  "kernelspec": {
   "display_name": "Python 3",
   "language": "python",
   "name": "python3"
  },
  "language_info": {
   "codemirror_mode": {
    "name": "ipython",
    "version": 3
   },
   "file_extension": ".py",
   "mimetype": "text/x-python",
   "name": "python",
   "nbconvert_exporter": "python",
   "pygments_lexer": "ipython3",
   "version": "3.8.3"
  }
 },
 "nbformat": 4,
 "nbformat_minor": 4
}
