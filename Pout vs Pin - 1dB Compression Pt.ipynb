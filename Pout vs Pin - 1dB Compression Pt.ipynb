{
 "cells": [
  {
   "cell_type": "code",
   "execution_count": 7,
   "metadata": {},
   "outputs": [],
   "source": [
    "import numpy as np\n",
    "import matplotlib.pyplot as plt\n",
    "import scipy\n",
    "import math"
   ]
  },
  {
   "cell_type": "code",
   "execution_count": 2,
   "metadata": {},
   "outputs": [],
   "source": [
    "Vm = np.arange(0.01,2,0.01)\n",
    "\n",
    "a0 = 1\n",
    "a1 = 10\n",
    "a2 = -1\n",
    "a3 = -2"
   ]
  },
  {
   "cell_type": "code",
   "execution_count": 3,
   "metadata": {},
   "outputs": [],
   "source": [
    "R = 5 #ohms\n",
    "Pin = 10*np.log(Vm**2/(2*R*0.001))\n",
    "\n",
    "Pout_ideal = Pin + 20*np.log(a1)\n",
    "Pout_actual = Pin + 20*np.log(a1 + ((3/4)*a3*Vm*2))\n"
   ]
  },
  {
   "cell_type": "code",
   "execution_count": 4,
   "metadata": {},
   "outputs": [
    {
     "name": "stdout",
     "output_type": "stream",
     "text": [
      "Compression point Vm =  0.8514656456810393\n",
      "Pin at Compression pt =  42.83577935306219\n"
     ]
    }
   ],
   "source": [
    "# 1 db Compression pt\n",
    "N = 1\n",
    "\n",
    "alog = 10**(N/20)\n",
    "Comp_Vm = np.sqrt((a1*(1-alog))/((3/4)*alog*a3))\n",
    "\n",
    "Pin_comp_pt = 10*np.log(Comp_Vm**2/(2*R*0.001))\n",
    "\n",
    "print(\"Compression point Vm = \",Comp_Vm)\n",
    "print(\"Pin at Compression pt = \",Pin_comp_pt)\n"
   ]
  },
  {
   "cell_type": "code",
   "execution_count": 8,
   "metadata": {},
   "outputs": [
    {
     "data": {
      "text/plain": [
       "[<matplotlib.lines.Line2D at 0x2a8122be910>]"
      ]
     },
     "execution_count": 8,
     "metadata": {},
     "output_type": "execute_result"
    },
    {
     "data": {
      "image/png": "[encoded data removed]",
      "text/plain": [
       "<Figure size 432x288 with 1 Axes>"
      ]
     },
     "metadata": {
      "needs_background": "light"
     },
     "output_type": "display_data"
    }
   ],
   "source": [
    "#plot\n",
    "\n",
    "p1 = Pin_comp_pt + 20*np.log(a1)\n",
    "p2 = Pin_comp_pt + 20*np.log(a1 + ((3/4)*a3*Comp_Vm*2))\n",
    "\n",
    "\n",
    "plt.xlim([0,Pin_comp_pt +5])\n",
    "plt.ylim([20*np.log(a1) - 5,10*math.ceil(p1/10) +5])\n",
    "plt.plot(Pin,Pout_ideal)\n",
    "plt.plot(Pin,Pout_actual)\n",
    "\n",
    "\n"
   ]
  },
  {
   "cell_type": "code",
   "execution_count": 9,
   "metadata": {},
   "outputs": [
    {
     "data": {
      "image/png": "[encoded data removed]",
      "text/plain": [
       "<Figure size 432x288 with 1 Axes>"
      ]
     },
     "metadata": {
      "needs_background": "light"
     },
     "output_type": "display_data"
    }
   ],
   "source": [
    "plt.scatter(Pin_comp_pt,p1)\n",
    "plt.scatter(Pin_comp_pt,p2)\n",
    "plt.show()"
   ]
  },
  {
   "cell_type": "code",
   "execution_count": null,
   "metadata": {},
   "outputs": [],
   "source": []
  }
 ],
 "metadata": {
  "kernelspec": {
   "display_name": "Python 3",
   "language": "python",
   "name": "python3"
  },
  "language_info": {
   "codemirror_mode": {
    "name": "ipython",
    "version": 3
   },
   "file_extension": ".py",
   "mimetype": "text/x-python",
   "name": "python",
   "nbconvert_exporter": "python",
   "pygments_lexer": "ipython3",
   "version": "3.8.3"
  }
 },
 "nbformat": 4,
 "nbformat_minor": 4
}
